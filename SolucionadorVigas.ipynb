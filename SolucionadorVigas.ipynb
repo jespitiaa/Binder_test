{
 "cells": [
  {
   "cell_type": "code",
   "execution_count": 1,
   "metadata": {},
   "outputs": [],
   "source": [
    "import numpy as np"
   ]
  },
  {
   "cell_type": "code",
   "execution_count": 2,
   "metadata": {},
   "outputs": [
    {
     "name": "stdout",
     "output_type": "stream",
     "text": [
      "----------Analisis estructural basico----------\n",
      "Nicolas Ortiz Rodriguez\n",
      "Este programa resuelve los siguientes sistemas de vigas: \n",
      "1. Carga puntual centrada\n",
      "2. Carga puntual descentralizada\n",
      "3. Carga distribuida de apoyo a apoyo\n"
     ]
    }
   ],
   "source": [
    "print(\"----------Analisis estructural basico----------\\nNicolas Ortiz Rodriguez\\nEste programa resuelve los siguientes sistemas de vigas: \")\n",
    "print(\"1. Carga puntual centrada\")\n",
    "print(\"2. Carga puntual descentralizada\")\n",
    "print(\"3. Carga distribuida de apoyo a apoyo\")"
   ]
  },
  {
   "cell_type": "code",
   "execution_count": 3,
   "metadata": {},
   "outputs": [
    {
     "name": "stdout",
     "output_type": "stream",
     "text": [
      "Introduzca el numero de apoyos de la viga\n",
      "4\n"
     ]
    }
   ],
   "source": [
    "print(\"Introduzca el numero de apoyos de la viga\")\n",
    "numapoyos = 0 \n",
    "try: \n",
    "    numapoyos = int(input())\n",
    "except ValueError:\n",
    "    print(\"El valor ingresado no es un numero entero\")\n",
    "    exit()"
   ]
  },
  {
   "cell_type": "code",
   "execution_count": 4,
   "metadata": {},
   "outputs": [
    {
     "name": "stdout",
     "output_type": "stream",
     "text": [
      "Escriba 1 si el primer apoyo esta empotrado, 2 si es semiempotrado, y 0 de lo contrario\n",
      "0\n"
     ]
    }
   ],
   "source": [
    "print(\"Escriba 1 si el primer apoyo esta empotrado, 2 si es semiempotrado, y 0 de lo contrario\")\n",
    "try: \n",
    "    emp0 = int(input())\n",
    "    if not (emp0 == 1 or emp0 == 0 or emp0 == 2):\n",
    "        print(\"Respuesta invalida\")\n",
    "        exit()\n",
    "except ValueError:\n",
    "    print(\"El valor ingresado no es un numero entero\")\n",
    "    exit()"
   ]
  },
  {
   "cell_type": "code",
   "execution_count": 5,
   "metadata": {},
   "outputs": [
    {
     "name": "stdout",
     "output_type": "stream",
     "text": [
      "Escriba 1 si el ultimo apoyo esta empotrado, 2 si es semiempotrado, y 0 de lo contrario\n",
      "0\n"
     ]
    }
   ],
   "source": [
    "print(\"Escriba 1 si el ultimo apoyo esta empotrado, 2 si es semiempotrado, y 0 de lo contrario\")\n",
    "try: \n",
    "    empf = int(input())\n",
    "    if not (empf == 1 or empf == 0 or empf == 2):\n",
    "        print(\"Respuesta invalida\")\n",
    "        exit()\n",
    "except ValueError:\n",
    "    print(\"El valor ingresado no es un numero entero\")\n",
    "    exit()"
   ]
  },
  {
   "cell_type": "code",
   "execution_count": 6,
   "metadata": {},
   "outputs": [],
   "source": [
    "if not emp0 == 0:   \n",
    "    print(\"Escriba 1 si conoce el momento del apoyo inicial y 0 de lo contrario\")\n",
    "    minicial = 'no'\n",
    "    try: \n",
    "        memp1 = int(input())\n",
    "        if not (memp1 == 1 or memp1 == 0):\n",
    "            print(\"Respuesta invalida\")\n",
    "            exit()\n",
    "        elif (memp1 == 1):\n",
    "            print(\"Indique el momento en KiloNewtons por Metro (use el punto como separador decimal)\")\n",
    "            minicial = float(input())\n",
    "    except ValueError:\n",
    "        print(\"El valor ingresado no es un numero valido\")\n",
    "        exit()"
   ]
  },
  {
   "cell_type": "code",
   "execution_count": 7,
   "metadata": {},
   "outputs": [],
   "source": [
    "if not empf == 0:\n",
    "    print(\"Escriba 1 si conoce el momento del apoyo final y 0 de lo contrario\")\n",
    "    mfinal = 'no'\n",
    "    try: \n",
    "        mempf = int(input())\n",
    "        if not (mempf == 1 or mempf == 0):\n",
    "            print(\"Respuesta invalida\")\n",
    "            exit()\n",
    "        elif (mempf == 1):\n",
    "            print(\"Indique el momento en KiloNewtons por Metro (use el punto como separador decimal)\")\n",
    "            mfinal = float(input())\n",
    "    except ValueError:\n",
    "        print(\"El valor ingresado no es un numero valido\")\n",
    "        exit()"
   ]
  },
  {
   "cell_type": "code",
   "execution_count": 8,
   "metadata": {},
   "outputs": [
    {
     "name": "stdout",
     "output_type": "stream",
     "text": [
      "Indique la longitud de la luz 1 en metros (use el punto como separador decimal)\n",
      "7.5\n",
      "Escriba 1 si la carga de la luz 1 es puntual, y 0 si es distribuida\n",
      "0\n",
      "Indique la carga de la luz 1 en KiloNewtons por Metro (use el punto como separador decimal)\n",
      "30\n",
      "Indique la longitud de la luz 2 en metros (use el punto como separador decimal)\n",
      "7.5\n",
      "Escriba 1 si la carga de la luz 2 es puntual, y 0 si es distribuida\n",
      "0\n",
      "Indique la carga de la luz 2 en KiloNewtons por Metro (use el punto como separador decimal)\n",
      "30\n",
      "Indique la longitud de la luz 3 en metros (use el punto como separador decimal)\n",
      "7.5\n",
      "Escriba 1 si la carga de la luz 3 es puntual, y 0 si es distribuida\n",
      "0\n",
      "Indique la carga de la luz 3 en KiloNewtons por Metro (use el punto como separador decimal)\n",
      "30\n"
     ]
    }
   ],
   "source": [
    "numluz = numapoyos - 1 \n",
    "longitudes = []\n",
    "valCargas = []\n",
    "tipoCargas = []\n",
    "distCargas = []\n",
    "for i in range (0,numluz):\n",
    "    print(\"Indique la longitud de la luz \" + str(i+1) + \" en metros (use el punto como separador decimal)\")\n",
    "    \n",
    "    try:\n",
    "        longActual = float(input())\n",
    "        longitudes.append(longActual)\n",
    "    except ValueEror:\n",
    "        print(\"El valor ingresado no es adecuado\")\n",
    "        exit()\n",
    "    print(\"Escriba 1 si la carga de la luz \"+ str(i+1) + \" es puntual, y 0 si es distribuida\")\n",
    "    \n",
    "    try: \n",
    "        tipoActual = int(input())\n",
    "        if not (tipoActual == 1 or tipoActual == 0):\n",
    "            print(\"Respuesta invalida\")\n",
    "            exit()\n",
    "        elif tipoActual == 1:\n",
    "            print(\"Escriba 0 si no está en el centro de la luz actual, y 1 si está en el centro de la luz actual\")\n",
    "            try:\n",
    "                centro = int(input())\n",
    "                if(centro == 0):\n",
    "                    print(\"Indique la distancia con respecto al primer apoyo en metros (use el punto como separador decimal)\")\n",
    "                    \n",
    "                    try: \n",
    "                        distA = float(input())\n",
    "                        if(distA > longActual):\n",
    "                            print(\"La distancia indicada es mayor que la longitud de la luz actual\")\n",
    "                            exit()\n",
    "                        elif(distA < 0):\n",
    "                            print(\"La distancia no puede ser negativa\")\n",
    "                            exit()\n",
    "                        else:\n",
    "                            distCargas.append(distA)\n",
    "                    except ValueError:\n",
    "                        print(\"El valor ingresado no es adecuado\")\n",
    "                        exit()\n",
    "                        \n",
    "                elif(centro == 1):\n",
    "                    distCargas.append(longActual/2)\n",
    "                else:\n",
    "                    print(\"El valor ingresado no es 0 ni 1\")\n",
    "                    exit()\n",
    "            except ValueError:\n",
    "                print(\"El valor ingresado no es un numero entero\")\n",
    "                exit()\n",
    "        else:\n",
    "            distCargas.append(-1)\n",
    "            \n",
    "        tipoCargas.append(tipoActual)\n",
    "    except ValueError:\n",
    "        print(\"El valor ingresado no es un numero entero\")\n",
    "        exit()\n",
    "    \n",
    "    if tipoActual == 0:\n",
    "        print(\"Indique la carga de la luz \" + str(i+1) + \" en KiloNewtons por Metro (use el punto como separador decimal)\")\n",
    "    else:\n",
    "        print(\"Indique la carga de la luz \" + str(i+1) + \" en KiloNewtons (use el punto como separador decimal)\")            \n",
    "    try:\n",
    "        cargaActual = float(input())\n",
    "        valCargas.append(cargaActual)\n",
    "    except ValueEror:\n",
    "        print(\"El valor ingresado no es adecuado\")\n",
    "        "
   ]
  },
  {
   "cell_type": "code",
   "execution_count": 9,
   "metadata": {},
   "outputs": [
    {
     "name": "stdout",
     "output_type": "stream",
     "text": [
      "[7.5, 7.5, 7.5] [30.0, 30.0, 30.0] [0, 0, 0] [-1, -1, -1]\n"
     ]
    }
   ],
   "source": [
    "print(longitudes,valCargas,tipoCargas,distCargas)"
   ]
  },
  {
   "cell_type": "code",
   "execution_count": 17,
   "metadata": {},
   "outputs": [
    {
     "name": "stdout",
     "output_type": "stream",
     "text": [
      "-----------------iteracion 0 ----------------------\n",
      "a.k.a primera iteracion\n",
      "Como los primeros dos apoyos son libres, entonces, m0f es cero, pero hay theta0 y thetaf\n",
      "[0.53333333 0.26666667 0.         0.        ] ----\n",
      "-----------------iteracion 1 ----------------------\n",
      "luz intermedia\n",
      "anteriores [0.26666667 0.53333333 0.         0.        ] -140.625\n",
      "nuevos [0.26666667 1.06666667 0.26666667 0.        ] 0.0\n",
      "-----------------iteracion 2 ----------------------\n",
      "a.k.a ultima iteracion\n",
      "anteriores [0.         0.26666667 0.53333333 0.        ] -140.625\n",
      "nuevos [0.         0.26666667 1.06666667 0.26666667] 0.0\n",
      "Como los ultimos dos apoyos son libres, entonces, mf0 es cero, pero hay theta0 y thetaf\n",
      "[0.         0.         0.26666667 0.53333333] ----\n"
     ]
    }
   ],
   "source": [
    "#SI SOLO HAY DOS APOYOS NO SE HACE EL CICLO\n",
    "\n",
    "eqIndices = []\n",
    "eqIgualdades = []\n",
    "\n",
    "meps = []\n",
    "thetasAnteriores = [] #Este arreglo es del mismo tamaño que puntos de apoyo\n",
    "\n",
    "flagPrimDesp = False\n",
    "flagUltDesp = False\n",
    "for i in range (0,numluz):\n",
    "    print(\"-----------------iteracion \" + str(i) + \" ----------------------\")\n",
    "    mempprim = 0\n",
    "    mempfin = 0\n",
    "    m0f = 0\n",
    "    mf0 = 0\n",
    "    \n",
    "    #Calculo de momentos de empotramiento perfecto para el apoyo inicial (izq)\n",
    "    if (tipoCargas[i] == 1 and distCargas[i] == longitudes[i]/2):\n",
    "        mempprim = (valCargas[i]*longitudes[i])/8\n",
    "    elif (tipoCargas[i] == 1 and not (distCargas[i] == longitudes[i]/2) and distCargas[i] > 0):\n",
    "        b = longitudes[i] - distCargas[i]\n",
    "        mempprim = (valCargas[i] * (b**2) * distCargas[i])/(longitudes[i]**2)\n",
    "    elif (tipoCargas[i] == 0):\n",
    "        mempprim = (valCargas[i] * (longitudes[i]**2))/12\n",
    "        \n",
    "        \n",
    "    #Calculo de momentos de empotramiento perfecto para el apoyo final (der)    \n",
    "    if (tipoCargas[i] == 1 and not (distCargas[i] == longitudes[i]/2) and distCargas[i] > 0):\n",
    "        b = longitudes[i] - distCargas[i]\n",
    "        mempfin = (valCargas[i] * (distCargas[i]**2) * b)/(longitudes[i]**2)\n",
    "    else:\n",
    "        mempfin = mempprim\n",
    "    \n",
    "    \n",
    "    \n",
    "    ths1 = np.zeros(numapoyos)\n",
    "    ths2 = np.zeros(numapoyos)\n",
    "    if (i==0):\n",
    "        print(\"a.k.a primera iteracion\")\n",
    "        if (emp0 == 0):\n",
    "            print(\"Como los primeros dos apoyos son libres, entonces, m0f es cero, pero hay theta0 y thetaf\")  \n",
    "            ths1[0]=4/longitudes[i]\n",
    "            ths1[1]=2/longitudes[i]\n",
    "            ths2[0]=2/longitudes[i]\n",
    "            ths2[1]=4/longitudes[i]\n",
    "            print(ths1[:], \"----\")\n",
    "            eqIndices.append(ths1[:])\n",
    "            eqIgualdades.append(-mempprim)\n",
    "            \n",
    "            \n",
    "        elif ( not minicial == 'no'):\n",
    "            print(\"ma = \" + str(-minicial))\n",
    "            \n",
    "        else:\n",
    "            ths1[1]=2/longitudes[i]\n",
    "            ths2[1]=4/longitudes[i]\n",
    "            #m0f = 2EI/longitudes[i] * (thetaf) + mempprim, donde  thetaf*EI es la incognita\n",
    "            print(\"ma = - m0f\")\n",
    "            flagPrimDesp = True\n",
    "                \n",
    "    elif (i==numluz-1):\n",
    "        \n",
    "        print(\"a.k.a ultima iteracion\")\n",
    "\n",
    "        #Primero se calcula el apoyo inicial de la luz\n",
    "        ant = thetasAnteriores[-1][:]\n",
    "        mant = meps[-1]\n",
    "        print(\"anteriores\", ant, mant)\n",
    "        eqIgualdades.append(-(mant + mempprim))\n",
    "        ths1[i]=4/longitudes[i]\n",
    "        ths1[i+1]=2/longitudes[i]\n",
    "        ant[i]=ant[i]+ths1[i]\n",
    "        ant[i+1]=ant[i+1]+ths1[i+1]\n",
    "        eqIndices.append(ant)\n",
    "        print(\"nuevos\", ant, mant+mempprim)\n",
    "    \n",
    "        \n",
    "        #Luego, se pasa a revisar la parte final\n",
    "        if (empf == 0):\n",
    "            print(\"Como los ultimos dos apoyos son libres, entonces, mf0 es cero, pero hay theta0 y thetaf\") \n",
    "            \n",
    "            ths2[i]=2/longitudes[i]\n",
    "            ths2[i+1]=4/longitudes[i]\n",
    "            \n",
    "            print(ths2[:], \"----\")\n",
    "\n",
    "            eqIndices.append(ths2[:])\n",
    "            \n",
    "            eqIgualdades.append(mempfin)\n",
    "\n",
    "        elif (not (mfinal == 'no')):\n",
    "            print(\"m\"+str(i + 1)+\"= \" + str(-mfinal))\n",
    "            \n",
    "        else:\n",
    "            ths1[i+1]=2/longitudes[i]\n",
    "            ths2[i+1]=4/longitudes[i]\n",
    "            #mf0 = 2EI/longitudes[i] * (theta0) + mempfin, donde  thetaf*EI es la incognita\n",
    "            print(\"mn = -mf0\")\n",
    "            flagUltDesp = True\n",
    "        \n",
    "    \n",
    "    else:\n",
    "        print(\"luz intermedia\")\n",
    "        ant = thetasAnteriores[-1][:]\n",
    "        mant = meps[-1]\n",
    "        print(\"anteriores\", ant, mant)\n",
    "        eqIgualdades.append(-(mant + mempprim))\n",
    "        ths1[i]=4/longitudes[i]\n",
    "        ths1[i+1]=2/longitudes[i]\n",
    "        ths2[i]=2/longitudes[i]\n",
    "        ths2[i+1]=4/longitudes[i]\n",
    "        ant[i]=ant[i]+ths1[i]\n",
    "        ant[i+1]=ant[i+1]+ths1[i+1]\n",
    "        eqIndices.append(ant)\n",
    "        print(\"nuevos\", ant, mant+mempprim)\n",
    "\n",
    "    \n",
    "    thetasAnteriores.append(ths1)\n",
    "    thetasAnteriores.append(ths2)\n",
    "    meps.append(mempprim)\n",
    "    meps.append(-mempfin)\n",
    "        "
   ]
  },
  {
   "cell_type": "code",
   "execution_count": 22,
   "metadata": {},
   "outputs": [
    {
     "name": "stdout",
     "output_type": "stream",
     "text": [
      "[array([0.53333333, 0.26666667, 0.        , 0.        ]), array([0.26666667, 1.06666667, 0.26666667, 0.        ]), array([0.        , 0.53333333, 0.26666667, 0.        ]), array([0.        , 0.26666667, 1.06666667, 0.26666667]), array([0.        , 0.        , 0.53333333, 0.26666667]), array([0.        , 0.        , 0.26666667, 0.53333333])] [140.625, -140.625, 140.625, -140.625, 140.625, -140.625]\n",
      "---------------------------------\n",
      "[array([0.53333333, 0.26666667, 0.        , 0.        ]), array([0.26666667, 1.06666667, 0.26666667, 0.        ]), array([0.        , 0.26666667, 1.06666667, 0.26666667]), array([0.        , 0.        , 0.26666667, 0.53333333])] [-140.625, -0.0, -0.0, 140.625]\n",
      "---------------------------------\n",
      "False False\n"
     ]
    }
   ],
   "source": [
    "print(thetasAnteriores, meps)\n",
    "print(\"---------------------------------\")\n",
    "print(eqIndices, eqIgualdades)\n",
    "print(\"---------------------------------\")\n",
    "print(flagPrimDesp, flagUltDesp)"
   ]
  },
  {
   "cell_type": "code",
   "execution_count": 21,
   "metadata": {},
   "outputs": [
    {
     "name": "stdout",
     "output_type": "stream",
     "text": [
      "EI*Theta1: -316.40625\n",
      "EI*Theta2: 105.46875\n",
      "EI*Theta3: -105.46874999999997\n",
      "EI*Theta4: 316.40624999999994\n"
     ]
    }
   ],
   "source": [
    "sol = []\n",
    "if len(eqIndices)==1:\n",
    "    for i in range(0,len(eqIndices[0])):\n",
    "        if eqIndices[0][i]==0:\n",
    "            print(\"EI*Theta \" + str(i+1) +\": 0\" )\n",
    "            sol.append(0)\n",
    "        else:\n",
    "            print(\"EI*Theta \" + str(i+1) +\": \" + str(eqIgualdades[0]/eqIndices[0][i]))\n",
    "            sol.append(eqIgualdades[0]/eqIndices[0][i])\n",
    "            if i == 1 and i <len(eqIndices[0])-1:\n",
    "                print(\"ma = \" + str((2/longitudes[i])*eqIgualdades[0]/eqIndices[0][i] + meps[0]))\n",
    "            if i == len(eqIndices[0])-2 and i > 0:\n",
    "                print(\"mn = \" + str((2/longitudes[i])*eqIgualdades[0]/eqIndices[0][i] + meps[-1]))\n",
    "else:\n",
    "    sol = np.linalg.solve(np.array(eqIndices), np.array(eqIgualdades))\n",
    "    for i in range (0,len(sol)):\n",
    "        print(\"EI*Theta\" + str(i + 1) + \": \" + str(sol[i]))"
   ]
  },
  {
   "cell_type": "code",
   "execution_count": 23,
   "metadata": {},
   "outputs": [
    {
     "name": "stdout",
     "output_type": "stream",
     "text": [
      "[-316.40625  105.46875 -105.46875  316.40625]\n"
     ]
    }
   ],
   "source": [
    "print(sol)"
   ]
  },
  {
   "cell_type": "code",
   "execution_count": null,
   "metadata": {},
   "outputs": [],
   "source": []
  }
 ],
 "metadata": {
  "kernelspec": {
   "display_name": "Python 3",
   "language": "python",
   "name": "python3"
  },
  "language_info": {
   "codemirror_mode": {
    "name": "ipython",
    "version": 3
   },
   "file_extension": ".py",
   "mimetype": "text/x-python",
   "name": "python",
   "nbconvert_exporter": "python",
   "pygments_lexer": "ipython3",
   "version": "3.7.3"
  }
 },
 "nbformat": 4,
 "nbformat_minor": 2
}
